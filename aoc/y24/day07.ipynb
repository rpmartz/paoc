{
 "cells": [
  {
   "cell_type": "markdown",
   "metadata": {},
   "source": [
    "## 2024 Day 7\n",
    "\n",
    "We are given a series of lines like `190: 10 19` and `3267: 81 40 27`. Part 1 asks us to find whether there is a way to use left-associative addition and multiplication with the numbers to make the equation true. In the first example, we can use multiplication to make `190 = 10 * 19`. In the second example, we can do `3267 = (81 + 40) * 27` or `(81 * 40) + 27`. (Equations evaluated left-to-right and not in order of traditional matematical preferences)\n",
    "\n",
    "### Intuition\n",
    "\n",
    "* Initial thought was that this is a backtracking problem. \n",
    "\n",
    "* Thinking about it some more, I think dynamic programming could be used to solve it. In the `n`th number in the list, your possible values are all possible values of `n - 1` times `n` and all possible values of `n - 1` plus `n`. \n"
   ]
  },
  {
   "cell_type": "code",
   "execution_count": 2,
   "metadata": {},
   "outputs": [],
   "source": [
    "test_input = [\n",
    "    '190: 10 19',\n",
    "    '3267: 81 40 27',\n",
    "    '292: 11 6 16 20'\n",
    "]"
   ]
  },
  {
   "cell_type": "markdown",
   "metadata": {},
   "source": [
    "Exploring a bit:"
   ]
  },
  {
   "cell_type": "code",
   "execution_count": 32,
   "metadata": {},
   "outputs": [],
   "source": [
    "def potential_values(i, nums, memo = {}):\n",
    "    if i == 0:\n",
    "        memo[0] = [nums[0]]\n",
    "        \n",
    "    else:\n",
    "        # loop over all potential values available here\n",
    "        potential_values = []\n",
    "        for potential_value in memo[i - 1]:\n",
    "            potential_values.append(nums[i] + potential_value)\n",
    "            potential_values.append(nums[i] * potential_value)\n",
    "            \n",
    "\n",
    "        memo[i] = potential_values\n",
    "    \n",
    "    return memo \n",
    "\n",
    "def is_valid(sum, nums):\n",
    "    values_by_idx = {}\n",
    "    for i, _ in enumerate(nums):\n",
    "        values_by_idx = potential_values(i, nums, values_by_idx)\n",
    "\n",
    "    possible_vals = set()\n",
    "    for value_list in values_by_idx.values():\n",
    "        for n in value_list:\n",
    "            possible_vals.add(n)\n",
    "\n",
    "    return sum in possible_vals\n"
   ]
  },
  {
   "cell_type": "code",
   "execution_count": null,
   "metadata": {},
   "outputs": [],
   "source": []
  },
  {
   "cell_type": "code",
   "execution_count": 15,
   "metadata": {},
   "outputs": [
    {
     "name": "stdout",
     "output_type": "stream",
     "text": [
      "values_by_idx: {0: [11], 1: [17, 66], 2: [33, 272, 82, 1056], 3: [53, 660, 292, 5440, 102, 1640, 1076, 21120]}\n"
     ]
    },
    {
     "data": {
      "text/plain": [
       "True"
      ]
     },
     "execution_count": 15,
     "metadata": {},
     "output_type": "execute_result"
    }
   ],
   "source": [
    "is_valid(292, [11, 6, 16, 20])"
   ]
  },
  {
   "cell_type": "code",
   "execution_count": 31,
   "metadata": {},
   "outputs": [
    {
     "data": {
      "text/plain": [
       "True"
      ]
     },
     "execution_count": 31,
     "metadata": {},
     "output_type": "execute_result"
    }
   ],
   "source": [
    "is_valid(3267, [81, 40, 27])"
   ]
  },
  {
   "cell_type": "code",
   "execution_count": 37,
   "metadata": {},
   "outputs": [],
   "source": [
    "from itertools import product \n",
    "\n",
    "def test(numbers, operators):\n",
    "    target, numbers = numbers[0], numbers[1:]\n",
    "    for ops in product(operators, repeat=len(numbers)-1):\n",
    "        value = numbers[0]\n",
    "        for x, op in zip(numbers[1:], ops):\n",
    "            if op == '+':\n",
    "                value += x\n",
    "            elif op == '*':\n",
    "                value *= x\n",
    "            else:\n",
    "                value = int(str(value) + str(x))\n",
    "        if value == target:\n",
    "            return target\n",
    "    return 0"
   ]
  },
  {
   "cell_type": "code",
   "execution_count": 39,
   "metadata": {},
   "outputs": [
    {
     "name": "stdout",
     "output_type": "stream",
     "text": [
      "{106209285, 648, 335115, 1165, 30487184, 1173, 2680219, 243892643, 10406, 335016, 335024, 30334748080, 2680128, 243891648, 333439425, 9411, 242672189760, 1257680, 2259, 107738, 849115, 9320, 9363945, 843879400, 336110, 1264, 2666817905, 30488179, 106743, 848120, 2681214}\n"
     ]
    },
    {
     "data": {
      "text/plain": [
       "1038838603811"
      ]
     },
     "execution_count": 39,
     "metadata": {},
     "output_type": "execute_result"
    }
   ],
   "source": [
    "import os\n",
    "import re \n",
    "\n",
    "with open('data/day07.txt', 'r') as f:\n",
    "    lines = [l.strip() for l in f.readlines()]\n",
    "\n",
    "result = 0\n",
    "\n",
    "for line in lines:\n",
    "     all_nums = list(map(int, re.findall(r'\\d+', line)))\n",
    "     equation_sum = all_nums[0]\n",
    "     nums = all_nums[1:]\n",
    "\n",
    "     if is_valid(equation_sum, nums):\n",
    "        result += equation_sum\n",
    "     # 1038838357795\n",
    "\n",
    "result"
   ]
  },
  {
   "cell_type": "code",
   "execution_count": 40,
   "metadata": {},
   "outputs": [
    {
     "data": {
      "text/plain": [
       "246016"
      ]
     },
     "execution_count": 40,
     "metadata": {},
     "output_type": "execute_result"
    }
   ],
   "source": [
    "1038838603811 - 1038838357795"
   ]
  },
  {
   "cell_type": "code",
   "execution_count": 41,
   "metadata": {},
   "outputs": [
    {
     "data": {
      "text/plain": [
       "True"
      ]
     },
     "execution_count": 41,
     "metadata": {},
     "output_type": "execute_result"
    }
   ],
   "source": [
    "is_valid(246016, [56, 274, 32, 16, 3])"
   ]
  }
 ],
 "metadata": {
  "kernelspec": {
   "display_name": ".env",
   "language": "python",
   "name": "python3"
  },
  "language_info": {
   "codemirror_mode": {
    "name": "ipython",
    "version": 3
   },
   "file_extension": ".py",
   "mimetype": "text/x-python",
   "name": "python",
   "nbconvert_exporter": "python",
   "pygments_lexer": "ipython3",
   "version": "3.10.1"
  }
 },
 "nbformat": 4,
 "nbformat_minor": 2
}
