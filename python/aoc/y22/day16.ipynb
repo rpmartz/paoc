{
 "cells": [
  {
   "cell_type": "markdown",
   "source": [
    "## [2022 Day 16 - Proboscidea Volcanium](https://adventofcode.com/2022/day/16)\n",
    "\n",
    "An exhaustive brute force search of the solution space here is intractable. There are 30 * 56 * 2^56 potential states to search. But since there is no point in opening valves with non-zero flow, we can use this intuition to prune the solution space into something less computationally intensive, because only 15 valves have flow. "
   ],
   "metadata": {
    "collapsed": false
   }
  },
  {
   "cell_type": "code",
   "execution_count": 2,
   "outputs": [],
   "source": [
    "import re\n",
    "import heapq"
   ],
   "metadata": {
    "collapsed": false,
    "ExecuteTime": {
     "end_time": "2023-12-01T22:29:32.021830Z",
     "start_time": "2023-12-01T22:29:32.015619Z"
    }
   }
  },
  {
   "cell_type": "markdown",
   "source": [
    "Now, we need to parse the input into a dictionary of `room: (flow_rate, [neighbors])`"
   ],
   "metadata": {
    "collapsed": false
   }
  },
  {
   "cell_type": "code",
   "execution_count": 27,
   "outputs": [
    {
     "data": {
      "text/plain": "{'JI': 21,\n 'DM': 3,\n 'XS': 18,\n 'WT': 23,\n 'KI': 9,\n 'II': 19,\n 'VC': 24,\n 'DU': 12,\n 'ZK': 10,\n 'XF': 25,\n 'LC': 4,\n 'IY': 22,\n 'TE': 11,\n 'VF': 13,\n 'BD': 17,\n 'AA': 0}"
     },
     "execution_count": 27,
     "metadata": {},
     "output_type": "execute_result"
    }
   ],
   "source": [
    "rooms = {}\n",
    "\n",
    "with open('data/day16.txt', 'r') as f:\n",
    "    lines = [l.strip() for l in f.readlines()]\n",
    "\n",
    "    for line in lines:\n",
    "        valves = re.findall(r'[A-Z]{2}', line)\n",
    "        room, neighbors = valves[0], valves[1:]\n",
    "\n",
    "        rate = re.findall(r'\\d+', line)\n",
    "\n",
    "        flow = int(rate[0])\n",
    "        if flow > 0 or room == 'AA':\n",
    "            rooms[room] = flow\n",
    "\n",
    "# example \n",
    "rooms"
   ],
   "metadata": {
    "collapsed": false,
    "ExecuteTime": {
     "end_time": "2023-12-02T03:01:11.953605Z",
     "start_time": "2023-12-02T03:01:11.947883Z"
    }
   }
  },
  {
   "cell_type": "markdown",
   "source": [
    "Next, we need to find the shortest difference between each pair of nodes in the graph. "
   ],
   "metadata": {
    "collapsed": false
   }
  },
  {
   "cell_type": "code",
   "execution_count": 10,
   "outputs": [
    {
     "data": {
      "text/plain": "4"
     },
     "execution_count": 10,
     "metadata": {},
     "output_type": "execute_result"
    }
   ],
   "source": [
    "def shortest_path(source, target):\n",
    "\tseen = set()\n",
    "\tqueue = [(0, source)]\n",
    "\twhile queue:\n",
    "\t\td, p = heapq.heappop(queue)\n",
    "\t\tif p == target:\n",
    "\t\t\treturn d\n",
    "\t\tseen.add(p)\n",
    "\t\tfor q in rooms[p][1]:\n",
    "\t\t\tif q not in seen:\n",
    "\t\t\t\theapq.heappush(queue, (d + 1, q))\n",
    "\n",
    "distances = {(a, b): shortest_path(a, b) for a in rooms for b in rooms}\n",
    "distances[('JI', 'DM')]"
   ],
   "metadata": {
    "collapsed": false,
    "ExecuteTime": {
     "end_time": "2023-12-01T22:33:06.142532Z",
     "start_time": "2023-12-01T22:33:06.137928Z"
    }
   }
  },
  {
   "cell_type": "markdown",
   "source": [
    "So now we have a map of `room` to `flow_rate` and the shortest path from any one node in the graph to any other node in the graph in the dictionary `distances`. \n",
    "\n",
    "Now we can do a depth first search to explore all possible routes and find the max"
   ],
   "metadata": {
    "collapsed": false
   }
  },
  {
   "cell_type": "code",
   "execution_count": 29,
   "outputs": [
    {
     "data": {
      "text/plain": "2059"
     },
     "execution_count": 29,
     "metadata": {},
     "output_type": "execute_result"
    }
   ],
   "source": [
    "def dfs(distances, rooms, current_valve, opened, time_remaining) -> int:\n",
    "\t# base case: we've run out of time and need to return the flow\n",
    "\tif time_remaining < 0:\n",
    "\t\treturn 0 \n",
    "\telse:\n",
    "\t\t# We want to open this valve since we filtered out all of the\n",
    "\t\t# valves with flow of 0 above\n",
    "\t\topened_1 = opened | {current_valve}\n",
    "\t\t\n",
    "\t\t# remove the opened valves from the set of candidate rooms because we do\n",
    "\t\t# not want to revisit it\n",
    "\t\tvalves_1 = set(rooms) - opened_1 \n",
    "\t\t\n",
    "\t\t# this is how much this valve will contribute for the remainder of the time\n",
    "\t\tflow_1 = rooms[current_valve] * time_remaining\n",
    "\t\t\n",
    "\t\tflow_2 = max((dfs(distances, rooms, v, opened_1, time_remaining - distances[current_valve, v] - 1) for v in valves_1), default=0)\n",
    "\t\t\n",
    "\t\treturn flow_1 + flow_2\t\n",
    "\t\n",
    "\t\n",
    "\t\n",
    "\t\n",
    "\n",
    "\n",
    "dfs(distances, rooms, 'AA', set(), 30)"
   ],
   "metadata": {
    "collapsed": false,
    "ExecuteTime": {
     "end_time": "2023-12-02T03:10:58.252938Z",
     "start_time": "2023-12-02T03:10:56.800757Z"
    }
   }
  },
  {
   "cell_type": "code",
   "execution_count": 12,
   "outputs": [],
   "source": [
    "opened = {'A', 'B', 'C'}"
   ],
   "metadata": {
    "collapsed": false,
    "ExecuteTime": {
     "end_time": "2023-12-02T01:19:17.568058Z",
     "start_time": "2023-12-02T01:19:17.566518Z"
    }
   }
  },
  {
   "cell_type": "code",
   "execution_count": 14,
   "outputs": [
    {
     "data": {
      "text/plain": "{'A', 'B', 'C'}"
     },
     "execution_count": 14,
     "metadata": {},
     "output_type": "execute_result"
    }
   ],
   "source": [
    "opened | {'A'}"
   ],
   "metadata": {
    "collapsed": false,
    "ExecuteTime": {
     "end_time": "2023-12-02T01:19:29.758390Z",
     "start_time": "2023-12-02T01:19:29.751603Z"
    }
   }
  },
  {
   "cell_type": "code",
   "execution_count": 18,
   "outputs": [
    {
     "data": {
      "text/plain": "{'A', 'B', 'C', 'D'}"
     },
     "execution_count": 18,
     "metadata": {},
     "output_type": "execute_result"
    }
   ],
   "source": [
    "opened | {'D'}"
   ],
   "metadata": {
    "collapsed": false,
    "ExecuteTime": {
     "end_time": "2023-12-02T01:19:55.395696Z",
     "start_time": "2023-12-02T01:19:55.386908Z"
    }
   }
  }
 ],
 "metadata": {
  "kernelspec": {
   "display_name": "Python 3",
   "language": "python",
   "name": "python3"
  },
  "language_info": {
   "codemirror_mode": {
    "name": "ipython",
    "version": 2
   },
   "file_extension": ".py",
   "mimetype": "text/x-python",
   "name": "python",
   "nbconvert_exporter": "python",
   "pygments_lexer": "ipython2",
   "version": "2.7.6"
  }
 },
 "nbformat": 4,
 "nbformat_minor": 0
}
