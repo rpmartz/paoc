{
 "cells": [
  {
   "cell_type": "code",
   "outputs": [],
   "source": [
    "def symbol_table(lines):\n",
    "    table = {}\n",
    "    for line in lines:\n",
    "        lhs, rhs = line.split(' -> ')\n",
    "        table[rhs] = lhs\n",
    "\n",
    "    return table"
   ],
   "metadata": {
    "collapsed": false,
    "ExecuteTime": {
     "end_time": "2024-01-10T17:26:54.340788Z",
     "start_time": "2024-01-10T17:26:54.332471Z"
    }
   },
   "id": "160ee34527183e4f",
   "execution_count": 2
  },
  {
   "cell_type": "code",
   "outputs": [],
   "source": [
    "with open('/Users/rmartz/code/mine/paoc/python/aoc/y15/data/day07.txt', 'r') as ifile:\n",
    "    lines = [l.strip() for l in ifile.readlines()]"
   ],
   "metadata": {
    "collapsed": false,
    "ExecuteTime": {
     "end_time": "2024-01-10T17:27:56.549400Z",
     "start_time": "2024-01-10T17:27:56.543852Z"
    }
   },
   "id": "b7948d1905b2e282",
   "execution_count": 3
  },
  {
   "cell_type": "code",
   "outputs": [
    {
     "data": {
      "text/plain": "{'x': '123',\n 'y': '456',\n 'd': 'x AND y',\n 'e': 'x OR y',\n 'f': 'x LSHIFT 2',\n 'g': 'y RSHIFT 2',\n 'h': 'NOT x',\n 'i': 'NOT y'}"
     },
     "execution_count": 5,
     "metadata": {},
     "output_type": "execute_result"
    }
   ],
   "source": [
    "stable = symbol_table(lines)\n",
    "stable"
   ],
   "metadata": {
    "collapsed": false,
    "ExecuteTime": {
     "end_time": "2024-01-10T17:28:41.045072Z",
     "start_time": "2024-01-10T17:28:41.038820Z"
    }
   },
   "id": "af12f2046e862424",
   "execution_count": 5
  },
  {
   "cell_type": "code",
   "outputs": [],
   "source": [
    "'NOT A'.replace('NOT ', '')"
   ],
   "metadata": {
    "collapsed": false
   },
   "id": "501154d29f632267"
  },
  {
   "cell_type": "code",
   "outputs": [],
   "source": [],
   "metadata": {
    "collapsed": false
   },
   "id": "bf6131bc6c6bf861"
  },
  {
   "cell_type": "code",
   "outputs": [],
   "source": [
    "def charge(wire, wire_values) -> int:\n",
    "    \n",
    "    if wire.isnumeric():\n",
    "        return int(wire) \n",
    "    \n",
    "    rhs = wire_values[wire]\n",
    "    print(f'{wire} -> {rhs}')\n",
    "    \n",
    "    if isinstance(rhs, int):\n",
    "        wire_values[wire] = rhs\n",
    "        return wire_values[wire]\n",
    "    elif ' ' not in rhs:\n",
    "        res = charge(rhs, wire_values)\n",
    "        wire_values[wire] = res\n",
    "        return res\n",
    "    elif rhs.startswith('NOT'):\n",
    "        res = ~charge(rhs.replace('NOT ', ''), wire_values) & 0xffff\n",
    "        wire_values[wire] = res\n",
    "        return res \n",
    "    elif 'AND' in rhs:\n",
    "        l, r = rhs.split(' AND ')\n",
    "        res = charge(l, wire_values) & charge(r, wire_values)\n",
    "        wire_values[wire] = res\n",
    "        return res \n",
    "    elif 'OR' in rhs:\n",
    "        l, r = rhs.split(' OR ')\n",
    "        res = charge(l, wire_values) | charge(r, wire_values)\n",
    "        wire_values[wire] = res\n",
    "        return res \n",
    "    elif 'LSHIFT' in rhs:\n",
    "        l, r = rhs.split(' LSHIFT ')\n",
    "        res = charge(l, wire_values) << charge(r, wire_values)\n",
    "        wire_values[wire] = res\n",
    "        return res \n",
    "    elif 'RSHIFT' in rhs:\n",
    "        l, r = rhs.split(' RSHIFT ')\n",
    "        res = charge(l, wire_values) >> charge(r, wire_values)\n",
    "        wire_values[wire] = res\n",
    "        return res "
   ],
   "metadata": {
    "collapsed": false,
    "ExecuteTime": {
     "end_time": "2024-01-10T18:07:20.716401Z",
     "start_time": "2024-01-10T18:07:20.709866Z"
    }
   },
   "id": "439d66c804c9b039",
   "execution_count": 42
  },
  {
   "cell_type": "code",
   "outputs": [
    {
     "name": "stdout",
     "output_type": "stream",
     "text": [
      "g -> 1824\n",
      "{'x': 123, 'y': 456, 'd': 72, 'e': 507, 'f': 492, 'g': 1824, 'h': -124, 'i': -457}\n",
      "114\n"
     ]
    }
   ],
   "source": [
    "charge('g', stable)\n",
    "print(stable)\n",
    "\n",
    "print(456 >> 2)"
   ],
   "metadata": {
    "collapsed": false,
    "ExecuteTime": {
     "end_time": "2024-01-10T17:52:56.219Z",
     "start_time": "2024-01-10T17:52:56.213841Z"
    }
   },
   "id": "13d2965fc740fb95",
   "execution_count": 39
  },
  {
   "cell_type": "markdown",
   "source": [
    "## 16-bit integers\n",
    "\n",
    "The problem for Day 7 called for 16-bit integers. My initial solution was incorrect because the values of bitwise compliment operations (the `NOT` instructions from the problem). \n",
    "\n",
    "For example, in the problem instructions, it said that the charge on wire `i` should be the result of `NOT y`. `y`'s value was 456, and the final result of `i` as given was `65079` In the problem description. \n",
    "\n",
    "One answer I found online said performing a bitwise `AND` with the value `0xffff` (the max 16 bit value) would result in the correct answer.\n",
    "\n",
    "Here's how Python represents `~456` in binary: "
   ],
   "metadata": {
    "collapsed": false
   },
   "id": "e9ecfc047f0a7ddd"
  },
  {
   "cell_type": "code",
   "outputs": [
    {
     "data": {
      "text/plain": "'-0b111001001'"
     },
     "execution_count": 54,
     "metadata": {},
     "output_type": "execute_result"
    }
   ],
   "source": [
    "bin(-457)"
   ],
   "metadata": {
    "collapsed": false,
    "ExecuteTime": {
     "end_time": "2024-01-10T19:04:42.824025Z",
     "start_time": "2024-01-10T19:04:42.816843Z"
    }
   },
   "id": "2a748bafe47fff29",
   "execution_count": 54
  },
  {
   "cell_type": "markdown",
   "source": [
    "In Python, integers do not have a fixed number of bits. In this case, it represents `-457` as a 9 bit integer. So the task here is to convert the 9-bit representation of `-457` to a 16-bit number. We can use the bitwise `&` operator to do this by doing an `&` operation with the max 16-bit value of `0xffff`. The `-457` will be padded with 0s to 16 bits. Since the `&` operation will only result in a `1` bit if _both_ numbers have a `1` in that position, the resulting value the 16-bit representation of the original value (`-457`) "
   ],
   "metadata": {
    "collapsed": false
   },
   "id": "c2383ed5ab79bc7"
  },
  {
   "cell_type": "code",
   "outputs": [
    {
     "data": {
      "text/plain": "65080"
     },
     "execution_count": 63,
     "metadata": {},
     "output_type": "execute_result"
    }
   ],
   "source": [
    "res = -0b0000000111001000 & 0b1111111111111111\n",
    "res"
   ],
   "metadata": {
    "collapsed": false,
    "ExecuteTime": {
     "end_time": "2024-01-11T07:30:21.533451Z",
     "start_time": "2024-01-11T07:30:21.524678Z"
    }
   },
   "id": "ba845df2ec02e5d7",
   "execution_count": 63
  },
  {
   "cell_type": "code",
   "outputs": [
    {
     "data": {
      "text/plain": "'0b1111111000111000'"
     },
     "execution_count": 57,
     "metadata": {},
     "output_type": "execute_result"
    }
   ],
   "source": [
    "bin(res)"
   ],
   "metadata": {
    "collapsed": false,
    "ExecuteTime": {
     "end_time": "2024-01-11T07:26:00.147059Z",
     "start_time": "2024-01-11T07:26:00.139574Z"
    }
   },
   "id": "66cbb4c2a1e8d3b4",
   "execution_count": 57
  }
 ],
 "metadata": {
  "kernelspec": {
   "display_name": "Python 3",
   "language": "python",
   "name": "python3"
  },
  "language_info": {
   "codemirror_mode": {
    "name": "ipython",
    "version": 2
   },
   "file_extension": ".py",
   "mimetype": "text/x-python",
   "name": "python",
   "nbconvert_exporter": "python",
   "pygments_lexer": "ipython2",
   "version": "2.7.6"
  }
 },
 "nbformat": 4,
 "nbformat_minor": 5
}
