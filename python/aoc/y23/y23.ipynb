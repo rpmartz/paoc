{
 "cells": [
  {
   "cell_type": "code",
   "execution_count": 1,
   "id": "initial_id",
   "metadata": {
    "collapsed": true,
    "ExecuteTime": {
     "end_time": "2023-12-01T11:58:32.474172Z",
     "start_time": "2023-12-01T11:58:32.464284Z"
    }
   },
   "outputs": [],
   "source": [
    "sample = \"\"\"\n",
    "1abc2\n",
    "pqr3stu8vwx\n",
    "a1b2c3d4e5f\n",
    "treb7uchet\n",
    "\"\"\""
   ]
  },
  {
   "cell_type": "code",
   "execution_count": 11,
   "outputs": [],
   "source": [
    "import re"
   ],
   "metadata": {
    "collapsed": false,
    "ExecuteTime": {
     "end_time": "2023-12-01T12:02:11.552166Z",
     "start_time": "2023-12-01T12:02:11.547534Z"
    }
   },
   "id": "5f3fb2c83c5e4f26"
  },
  {
   "cell_type": "code",
   "execution_count": 19,
   "outputs": [],
   "source": [
    "with open('/Users/ryan/code/mine/paoc/inputs/y23/day01.txt', 'r') as ifile:\n",
    "    lines = [l.strip() for l in ifile.readlines()]"
   ],
   "metadata": {
    "collapsed": false,
    "ExecuteTime": {
     "end_time": "2023-12-01T12:08:46.780252Z",
     "start_time": "2023-12-01T12:08:46.775727Z"
    }
   },
   "id": "950465e161d3c642"
  },
  {
   "cell_type": "code",
   "execution_count": 25,
   "outputs": [],
   "source": [
    "nums = []\n",
    "for line in lines:\n",
    "    nums_in_line = re.findall(r'\\d', line)\n",
    "    if nums_in_line:\n",
    "        nums.append(int(''.join([nums_in_line[0], nums_in_line[-1]])))"
   ],
   "metadata": {
    "collapsed": false,
    "ExecuteTime": {
     "end_time": "2023-12-01T12:10:32.780575Z",
     "start_time": "2023-12-01T12:10:32.779163Z"
    }
   },
   "id": "e58e12fcc81c7fb3"
  },
  {
   "cell_type": "code",
   "execution_count": 26,
   "outputs": [
    {
     "data": {
      "text/plain": "54601"
     },
     "execution_count": 26,
     "metadata": {},
     "output_type": "execute_result"
    }
   ],
   "source": [
    "sum(nums)"
   ],
   "metadata": {
    "collapsed": false,
    "ExecuteTime": {
     "end_time": "2023-12-01T12:10:36.265790Z",
     "start_time": "2023-12-01T12:10:36.261934Z"
    }
   },
   "id": "5c2b7d09427f08ef"
  },
  {
   "cell_type": "markdown",
   "source": [
    "### Day 1 Part 2"
   ],
   "metadata": {
    "collapsed": false
   },
   "id": "48912f8c8f5c292"
  },
  {
   "cell_type": "code",
   "execution_count": 41,
   "outputs": [
    {
     "data": {
      "text/plain": "['one', '2', '3', '4']"
     },
     "execution_count": 41,
     "metadata": {},
     "output_type": "execute_result"
    }
   ],
   "source": [
    "re.findall(r'(?:\\d|one|two|three|four|five|six|seven|eight|nine)', 'zoneight234')"
   ],
   "metadata": {
    "collapsed": false,
    "ExecuteTime": {
     "end_time": "2023-12-01T12:31:42.480123Z",
     "start_time": "2023-12-01T12:31:42.475737Z"
    }
   },
   "id": "afa541a29053767"
  },
  {
   "cell_type": "code",
   "execution_count": 29,
   "outputs": [],
   "source": [
    "word_to_digit = {\n",
    "    'one': 1,\n",
    "    'two': 2,\n",
    "    'three': 3,\n",
    "    'four': 4,\n",
    "    'five': 5,\n",
    "    'six': 6,\n",
    "    'seven': 7,\n",
    "    'eight': 8,\n",
    "    'nine': 9\n",
    "}"
   ],
   "metadata": {
    "collapsed": false,
    "ExecuteTime": {
     "end_time": "2023-12-01T12:16:38.794106Z",
     "start_time": "2023-12-01T12:16:38.788737Z"
    }
   },
   "id": "70d90b82d48add6f"
  },
  {
   "cell_type": "code",
   "execution_count": 33,
   "outputs": [],
   "source": [
    "def lookup_digit(d):\n",
    "    if d.isnumeric():\n",
    "        return d\n",
    "    return word_to_digit[d]"
   ],
   "metadata": {
    "collapsed": false,
    "ExecuteTime": {
     "end_time": "2023-12-01T12:20:16.117979Z",
     "start_time": "2023-12-01T12:20:16.115047Z"
    }
   },
   "id": "d5ce22c8e046d184"
  },
  {
   "cell_type": "code",
   "execution_count": 42,
   "outputs": [],
   "source": [
    "replacements = {\n",
    "    'twone': '21',\n",
    "    'oneight': '18',\n",
    "    'threeight': '38',\n",
    "    'fiveight': '58',\n",
    "    'sevenine': '79',\n",
    "    'nineight': '98',\n",
    "    'eightwo': '82',\n",
    "    'eighthree': '83'\n",
    "}"
   ],
   "metadata": {
    "collapsed": false,
    "ExecuteTime": {
     "end_time": "2023-12-01T12:43:12.208530Z",
     "start_time": "2023-12-01T12:43:12.181674Z"
    }
   },
   "id": "8568ffdc7e2907b5"
  },
  {
   "cell_type": "code",
   "execution_count": 43,
   "outputs": [],
   "source": [
    "def replace_combined_words(line):\n",
    "    for text, nums in replacements.items():\n",
    "        if text in line:\n",
    "            line.replace(text, nums)\n",
    "            \n",
    "    return line"
   ],
   "metadata": {
    "collapsed": false,
    "ExecuteTime": {
     "end_time": "2023-12-01T12:44:29.337744Z",
     "start_time": "2023-12-01T12:44:29.333735Z"
    }
   },
   "id": "9c972c6a754221c2"
  },
  {
   "cell_type": "code",
   "execution_count": 44,
   "outputs": [],
   "source": [
    "nums = []\n",
    "for line in lines:\n",
    "    nums_in_line = re.findall(r'(\\d)', replace_combined_words(line))\n",
    "    if nums_in_line:\n",
    "        nums.append(int(''.join([nums_in_line[0], nums_in_line[-1]])))"
   ],
   "metadata": {
    "collapsed": false,
    "ExecuteTime": {
     "end_time": "2023-12-01T12:44:54.593736Z",
     "start_time": "2023-12-01T12:44:54.591977Z"
    }
   },
   "id": "168112209cc8d9ab"
  },
  {
   "cell_type": "code",
   "execution_count": 45,
   "outputs": [
    {
     "data": {
      "text/plain": "54601"
     },
     "execution_count": 45,
     "metadata": {},
     "output_type": "execute_result"
    }
   ],
   "source": [
    "sum(nums)"
   ],
   "metadata": {
    "collapsed": false,
    "ExecuteTime": {
     "end_time": "2023-12-01T12:45:09.101869Z",
     "start_time": "2023-12-01T12:45:09.100144Z"
    }
   },
   "id": "f86249dab4d37e2b"
  },
  {
   "cell_type": "code",
   "outputs": [
    {
     "data": {
      "text/plain": "'6'"
     },
     "execution_count": 14,
     "metadata": {},
     "output_type": "execute_result"
    }
   ],
   "source": [
    "import re \n",
    "\n",
    "line = 'Faerun to Tristram = 65'\n",
    "\n",
    "result = re.match('(\\w+) to (\\w+) = (\\d+)', line)\n",
    "src, dest, dist = result.groups()\n"
   ],
   "metadata": {
    "collapsed": false,
    "ExecuteTime": {
     "end_time": "2024-01-15T23:04:46.889222Z",
     "start_time": "2024-01-15T23:04:46.885834Z"
    }
   },
   "id": "9ad16631e7a345",
   "execution_count": 14
  }
 ],
 "metadata": {
  "kernelspec": {
   "display_name": "Python 3",
   "language": "python",
   "name": "python3"
  },
  "language_info": {
   "codemirror_mode": {
    "name": "ipython",
    "version": 2
   },
   "file_extension": ".py",
   "mimetype": "text/x-python",
   "name": "python",
   "nbconvert_exporter": "python",
   "pygments_lexer": "ipython2",
   "version": "2.7.6"
  }
 },
 "nbformat": 4,
 "nbformat_minor": 5
}
